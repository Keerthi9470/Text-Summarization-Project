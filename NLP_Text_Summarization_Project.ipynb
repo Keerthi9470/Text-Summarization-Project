{
  "cells": [
    {
      "cell_type": "markdown",
      "metadata": {
        "id": "view-in-github",
        "colab_type": "text"
      },
      "source": [
        "<a href=\"https://colab.research.google.com/github/Keerthi9470/Text-Summarization-Project/blob/main/NLP_Text_Summarization_Project.ipynb\" target=\"_parent\"><img src=\"https://colab.research.google.com/assets/colab-badge.svg\" alt=\"Open In Colab\"/></a>"
      ]
    },
    {
      "cell_type": "code",
      "execution_count": null,
      "metadata": {
        "colab": {
          "base_uri": "https://localhost:8080/"
        },
        "id": "bFEiixv3s5cX",
        "outputId": "502e0485-2901-4617-99f0-5ad3cd91e2bc"
      },
      "outputs": [
        {
          "output_type": "stream",
          "name": "stdout",
          "text": [
            "Collecting flask-ngrok\n",
            "  Downloading flask_ngrok-0.0.25-py3-none-any.whl.metadata (1.8 kB)\n",
            "Requirement already satisfied: Flask>=0.8 in /usr/local/lib/python3.11/dist-packages (from flask-ngrok) (3.1.0)\n",
            "Requirement already satisfied: requests in /usr/local/lib/python3.11/dist-packages (from flask-ngrok) (2.32.3)\n",
            "Requirement already satisfied: Werkzeug>=3.1 in /usr/local/lib/python3.11/dist-packages (from Flask>=0.8->flask-ngrok) (3.1.3)\n",
            "Requirement already satisfied: Jinja2>=3.1.2 in /usr/local/lib/python3.11/dist-packages (from Flask>=0.8->flask-ngrok) (3.1.6)\n",
            "Requirement already satisfied: itsdangerous>=2.2 in /usr/local/lib/python3.11/dist-packages (from Flask>=0.8->flask-ngrok) (2.2.0)\n",
            "Requirement already satisfied: click>=8.1.3 in /usr/local/lib/python3.11/dist-packages (from Flask>=0.8->flask-ngrok) (8.1.8)\n",
            "Requirement already satisfied: blinker>=1.9 in /usr/local/lib/python3.11/dist-packages (from Flask>=0.8->flask-ngrok) (1.9.0)\n",
            "Requirement already satisfied: charset-normalizer<4,>=2 in /usr/local/lib/python3.11/dist-packages (from requests->flask-ngrok) (3.4.1)\n",
            "Requirement already satisfied: idna<4,>=2.5 in /usr/local/lib/python3.11/dist-packages (from requests->flask-ngrok) (3.10)\n",
            "Requirement already satisfied: urllib3<3,>=1.21.1 in /usr/local/lib/python3.11/dist-packages (from requests->flask-ngrok) (2.3.0)\n",
            "Requirement already satisfied: certifi>=2017.4.17 in /usr/local/lib/python3.11/dist-packages (from requests->flask-ngrok) (2025.1.31)\n",
            "Requirement already satisfied: MarkupSafe>=2.0 in /usr/local/lib/python3.11/dist-packages (from Jinja2>=3.1.2->Flask>=0.8->flask-ngrok) (3.0.2)\n",
            "Downloading flask_ngrok-0.0.25-py3-none-any.whl (3.1 kB)\n",
            "Installing collected packages: flask-ngrok\n",
            "Successfully installed flask-ngrok-0.0.25\n"
          ]
        }
      ],
      "source": [
        "!pip install flask-ngrok"
      ]
    },
    {
      "cell_type": "code",
      "execution_count": null,
      "metadata": {
        "colab": {
          "base_uri": "https://localhost:8080/"
        },
        "id": "WcpZQWYEs2EI",
        "outputId": "83e48e8c-442d-4edf-d037-bc2b706122bb"
      },
      "outputs": [
        {
          "output_type": "stream",
          "name": "stdout",
          "text": [
            "Requirement already satisfied: flask in /usr/local/lib/python3.11/dist-packages (3.1.0)\n",
            "Requirement already satisfied: flask-ngrok in /usr/local/lib/python3.11/dist-packages (0.0.25)\n",
            "Requirement already satisfied: spacy in /usr/local/lib/python3.11/dist-packages (3.8.4)\n",
            "Requirement already satisfied: Werkzeug>=3.1 in /usr/local/lib/python3.11/dist-packages (from flask) (3.1.3)\n",
            "Requirement already satisfied: Jinja2>=3.1.2 in /usr/local/lib/python3.11/dist-packages (from flask) (3.1.6)\n",
            "Requirement already satisfied: itsdangerous>=2.2 in /usr/local/lib/python3.11/dist-packages (from flask) (2.2.0)\n",
            "Requirement already satisfied: click>=8.1.3 in /usr/local/lib/python3.11/dist-packages (from flask) (8.1.8)\n",
            "Requirement already satisfied: blinker>=1.9 in /usr/local/lib/python3.11/dist-packages (from flask) (1.9.0)\n",
            "Requirement already satisfied: requests in /usr/local/lib/python3.11/dist-packages (from flask-ngrok) (2.32.3)\n",
            "Requirement already satisfied: spacy-legacy<3.1.0,>=3.0.11 in /usr/local/lib/python3.11/dist-packages (from spacy) (3.0.12)\n",
            "Requirement already satisfied: spacy-loggers<2.0.0,>=1.0.0 in /usr/local/lib/python3.11/dist-packages (from spacy) (1.0.5)\n",
            "Requirement already satisfied: murmurhash<1.1.0,>=0.28.0 in /usr/local/lib/python3.11/dist-packages (from spacy) (1.0.12)\n",
            "Requirement already satisfied: cymem<2.1.0,>=2.0.2 in /usr/local/lib/python3.11/dist-packages (from spacy) (2.0.11)\n",
            "Requirement already satisfied: preshed<3.1.0,>=3.0.2 in /usr/local/lib/python3.11/dist-packages (from spacy) (3.0.9)\n",
            "Requirement already satisfied: thinc<8.4.0,>=8.3.4 in /usr/local/lib/python3.11/dist-packages (from spacy) (8.3.4)\n",
            "Requirement already satisfied: wasabi<1.2.0,>=0.9.1 in /usr/local/lib/python3.11/dist-packages (from spacy) (1.1.3)\n",
            "Requirement already satisfied: srsly<3.0.0,>=2.4.3 in /usr/local/lib/python3.11/dist-packages (from spacy) (2.5.1)\n",
            "Requirement already satisfied: catalogue<2.1.0,>=2.0.6 in /usr/local/lib/python3.11/dist-packages (from spacy) (2.0.10)\n",
            "Requirement already satisfied: weasel<0.5.0,>=0.1.0 in /usr/local/lib/python3.11/dist-packages (from spacy) (0.4.1)\n",
            "Requirement already satisfied: typer<1.0.0,>=0.3.0 in /usr/local/lib/python3.11/dist-packages (from spacy) (0.15.2)\n",
            "Requirement already satisfied: tqdm<5.0.0,>=4.38.0 in /usr/local/lib/python3.11/dist-packages (from spacy) (4.67.1)\n",
            "Requirement already satisfied: numpy>=1.19.0 in /usr/local/lib/python3.11/dist-packages (from spacy) (2.0.2)\n",
            "Requirement already satisfied: pydantic!=1.8,!=1.8.1,<3.0.0,>=1.7.4 in /usr/local/lib/python3.11/dist-packages (from spacy) (2.11.0)\n",
            "Requirement already satisfied: setuptools in /usr/local/lib/python3.11/dist-packages (from spacy) (75.2.0)\n",
            "Requirement already satisfied: packaging>=20.0 in /usr/local/lib/python3.11/dist-packages (from spacy) (24.2)\n",
            "Requirement already satisfied: langcodes<4.0.0,>=3.2.0 in /usr/local/lib/python3.11/dist-packages (from spacy) (3.5.0)\n",
            "Requirement already satisfied: MarkupSafe>=2.0 in /usr/local/lib/python3.11/dist-packages (from Jinja2>=3.1.2->flask) (3.0.2)\n",
            "Requirement already satisfied: language-data>=1.2 in /usr/local/lib/python3.11/dist-packages (from langcodes<4.0.0,>=3.2.0->spacy) (1.3.0)\n",
            "Requirement already satisfied: annotated-types>=0.6.0 in /usr/local/lib/python3.11/dist-packages (from pydantic!=1.8,!=1.8.1,<3.0.0,>=1.7.4->spacy) (0.7.0)\n",
            "Requirement already satisfied: pydantic-core==2.33.0 in /usr/local/lib/python3.11/dist-packages (from pydantic!=1.8,!=1.8.1,<3.0.0,>=1.7.4->spacy) (2.33.0)\n",
            "Requirement already satisfied: typing-extensions>=4.12.2 in /usr/local/lib/python3.11/dist-packages (from pydantic!=1.8,!=1.8.1,<3.0.0,>=1.7.4->spacy) (4.13.0)\n",
            "Requirement already satisfied: typing-inspection>=0.4.0 in /usr/local/lib/python3.11/dist-packages (from pydantic!=1.8,!=1.8.1,<3.0.0,>=1.7.4->spacy) (0.4.0)\n",
            "Requirement already satisfied: charset-normalizer<4,>=2 in /usr/local/lib/python3.11/dist-packages (from requests->flask-ngrok) (3.4.1)\n",
            "Requirement already satisfied: idna<4,>=2.5 in /usr/local/lib/python3.11/dist-packages (from requests->flask-ngrok) (3.10)\n",
            "Requirement already satisfied: urllib3<3,>=1.21.1 in /usr/local/lib/python3.11/dist-packages (from requests->flask-ngrok) (2.3.0)\n",
            "Requirement already satisfied: certifi>=2017.4.17 in /usr/local/lib/python3.11/dist-packages (from requests->flask-ngrok) (2025.1.31)\n",
            "Requirement already satisfied: blis<1.3.0,>=1.2.0 in /usr/local/lib/python3.11/dist-packages (from thinc<8.4.0,>=8.3.4->spacy) (1.2.0)\n",
            "Requirement already satisfied: confection<1.0.0,>=0.0.1 in /usr/local/lib/python3.11/dist-packages (from thinc<8.4.0,>=8.3.4->spacy) (0.1.5)\n",
            "Requirement already satisfied: shellingham>=1.3.0 in /usr/local/lib/python3.11/dist-packages (from typer<1.0.0,>=0.3.0->spacy) (1.5.4)\n",
            "Requirement already satisfied: rich>=10.11.0 in /usr/local/lib/python3.11/dist-packages (from typer<1.0.0,>=0.3.0->spacy) (13.9.4)\n",
            "Requirement already satisfied: cloudpathlib<1.0.0,>=0.7.0 in /usr/local/lib/python3.11/dist-packages (from weasel<0.5.0,>=0.1.0->spacy) (0.21.0)\n",
            "Requirement already satisfied: smart-open<8.0.0,>=5.2.1 in /usr/local/lib/python3.11/dist-packages (from weasel<0.5.0,>=0.1.0->spacy) (7.1.0)\n",
            "Requirement already satisfied: marisa-trie>=1.1.0 in /usr/local/lib/python3.11/dist-packages (from language-data>=1.2->langcodes<4.0.0,>=3.2.0->spacy) (1.2.1)\n",
            "Requirement already satisfied: markdown-it-py>=2.2.0 in /usr/local/lib/python3.11/dist-packages (from rich>=10.11.0->typer<1.0.0,>=0.3.0->spacy) (3.0.0)\n",
            "Requirement already satisfied: pygments<3.0.0,>=2.13.0 in /usr/local/lib/python3.11/dist-packages (from rich>=10.11.0->typer<1.0.0,>=0.3.0->spacy) (2.18.0)\n",
            "Requirement already satisfied: wrapt in /usr/local/lib/python3.11/dist-packages (from smart-open<8.0.0,>=5.2.1->weasel<0.5.0,>=0.1.0->spacy) (1.17.2)\n",
            "Requirement already satisfied: mdurl~=0.1 in /usr/local/lib/python3.11/dist-packages (from markdown-it-py>=2.2.0->rich>=10.11.0->typer<1.0.0,>=0.3.0->spacy) (0.1.2)\n",
            "Collecting en-core-web-sm==3.8.0\n",
            "  Downloading https://github.com/explosion/spacy-models/releases/download/en_core_web_sm-3.8.0/en_core_web_sm-3.8.0-py3-none-any.whl (12.8 MB)\n",
            "\u001b[2K     \u001b[90m━━━━━━━━━━━━━━━━━━━━━━━━━━━━━━━━━━━━━━━━\u001b[0m \u001b[32m12.8/12.8 MB\u001b[0m \u001b[31m25.2 MB/s\u001b[0m eta \u001b[36m0:00:00\u001b[0m\n",
            "\u001b[?25h\u001b[38;5;2m✔ Download and installation successful\u001b[0m\n",
            "You can now load the package via spacy.load('en_core_web_sm')\n",
            "\u001b[38;5;3m⚠ Restart to reload dependencies\u001b[0m\n",
            "If you are in a Jupyter or Colab notebook, you may need to restart Python in\n",
            "order to load all the package's dependencies. You can do this by selecting the\n",
            "'Restart kernel' or 'Restart runtime' option.\n",
            "^C\n"
          ]
        }
      ],
      "source": [
        "!pip install flask flask-ngrok spacy\n",
        "!python -m spacy download en_core_web_sm"
      ]
    },
    {
      "cell_type": "code",
      "source": [
        "!pip install python-dotenv"
      ],
      "metadata": {
        "colab": {
          "base_uri": "https://localhost:8080/"
        },
        "id": "7_dO6NXsq2xR",
        "outputId": "e049e532-d752-4d44-eeb7-a76ba555447e"
      },
      "execution_count": 6,
      "outputs": [
        {
          "output_type": "stream",
          "name": "stdout",
          "text": [
            "Collecting python-dotenv\n",
            "  Downloading python_dotenv-1.1.0-py3-none-any.whl.metadata (24 kB)\n",
            "Downloading python_dotenv-1.1.0-py3-none-any.whl (20 kB)\n",
            "Installing collected packages: python-dotenv\n",
            "Successfully installed python-dotenv-1.1.0\n"
          ]
        }
      ]
    },
    {
      "cell_type": "code",
      "execution_count": 8,
      "metadata": {
        "colab": {
          "base_uri": "https://localhost:8080/"
        },
        "id": "nrOcpUjRspNB",
        "outputId": "e0f199e8-d0bd-47ad-b4a6-a3120fe805bd"
      },
      "outputs": [
        {
          "output_type": "stream",
          "name": "stdout",
          "text": [
            "Requirement already satisfied: pyngrok in /usr/local/lib/python3.11/dist-packages (7.2.3)\n",
            "Requirement already satisfied: PyYAML>=5.1 in /usr/local/lib/python3.11/dist-packages (from pyngrok) (6.0.2)\n",
            "Authtoken saved to configuration file: /root/.config/ngrok/ngrok.yml\n"
          ]
        }
      ],
      "source": [
        "import os\n",
        "from dotenv import load_dotenv\n",
        "\n",
        "load_dotenv()  # Load environment variables from .env\n",
        "NGROK_AUTH_TOKEN = os.getenv(\"Auth_token\")\n",
        "\n",
        "!pip install pyngrok\n",
        "!ngrok authtoken {NGROK_AUTH_TOKEN}"
      ]
    },
    {
      "cell_type": "code",
      "execution_count": 9,
      "metadata": {
        "colab": {
          "base_uri": "https://localhost:8080/"
        },
        "id": "klVLcSY5sc4B",
        "outputId": "a0ca660a-a192-48c4-e429-cbcdbc67ec29"
      },
      "outputs": [
        {
          "output_type": "stream",
          "name": "stderr",
          "text": [
            "Device set to use cpu\n"
          ]
        },
        {
          "output_type": "stream",
          "name": "stdout",
          "text": [
            "Public URL: NgrokTunnel: \"https://34e8-34-80-60-93.ngrok-free.app\" -> \"http://localhost:5000\"\n",
            " * Serving Flask app '__main__'\n",
            " * Debug mode: off\n"
          ]
        },
        {
          "output_type": "stream",
          "name": "stderr",
          "text": [
            "INFO:werkzeug:\u001b[31m\u001b[1mWARNING: This is a development server. Do not use it in a production deployment. Use a production WSGI server instead.\u001b[0m\n",
            " * Running on http://127.0.0.1:5000\n",
            "INFO:werkzeug:\u001b[33mPress CTRL+C to quit\u001b[0m\n",
            "INFO:werkzeug:127.0.0.1 - - [03/Apr/2025 17:22:53] \"GET / HTTP/1.1\" 200 -\n",
            "INFO:werkzeug:127.0.0.1 - - [03/Apr/2025 17:22:54] \"\u001b[33mGET /favicon.ico HTTP/1.1\u001b[0m\" 404 -\n"
          ]
        }
      ],
      "source": [
        "from flask import Flask, render_template_string, request\n",
        "from transformers import pipeline\n",
        "from pyngrok import ngrok\n",
        "import spacy\n",
        "from collections import Counter\n",
        "from heapq import nlargest\n",
        "\n",
        "app = Flask(__name__)\n",
        "nlp = spacy.load('en_core_web_sm')\n",
        "\n",
        "# Initialize the summarization pipeline\n",
        "summarizer = pipeline(\"summarization\", model=\"t5-base\", tokenizer=\"t5-base\", framework=\"pt\")\n",
        "\n",
        "HTML_TEMPLATE = \"\"\"\n",
        "<!DOCTYPE html>\n",
        "<html>\n",
        "<head>\n",
        "    <title>Text Summarizer</title>\n",
        "    <style>\n",
        "        body {\n",
        "            font-family: Arial, sans-serif;\n",
        "            text-align: center;\n",
        "            background-color: #F8F9FA;\n",
        "            margin: 20px;\n",
        "        }\n",
        "\n",
        "        /* Title Styling */\n",
        "        #titl {\n",
        "            color: #198754;\n",
        "            font-size: 36px;\n",
        "            font-weight: bold;\n",
        "        }\n",
        "\n",
        "        /* Section Headings */\n",
        "        h3 {\n",
        "            color: #495057;\n",
        "            font-size: 24px;\n",
        "        }\n",
        "\n",
        "        /* Container for Forms */\n",
        "        .container {\n",
        "            display: flex;\n",
        "            justify-content: center;\n",
        "            gap: 20px;\n",
        "            margin-top: 20px;\n",
        "        }\n",
        "\n",
        "        /* Form Boxes */\n",
        "        .box {\n",
        "            width: 45%;\n",
        "            background: white;\n",
        "            padding: 20px;\n",
        "            border-radius: 10px;\n",
        "            box-shadow: 0px 4px 10px rgba(0, 0, 0, 0.1);\n",
        "            border: 2px solid #198754;\n",
        "        }\n",
        "\n",
        "        /* Textarea Input */\n",
        "        textarea {\n",
        "            width: 80%;\n",
        "            padding: 10px;\n",
        "            font-size: 16px;\n",
        "            border: 2px solid #198754;\n",
        "            border-radius: 5px;\n",
        "            resize: none;\n",
        "            outline: none;\n",
        "        }\n",
        "\n",
        "        /* Number Input */\n",
        "        input[type=\"number\"] {\n",
        "            padding: 10px;\n",
        "            font-size: 16px;\n",
        "            border-radius: 5px;\n",
        "            border: 2px solid #198754;\n",
        "            outline: none;\n",
        "        }\n",
        "\n",
        "        /* Submit Button */\n",
        "        input[type=\"submit\"] {\n",
        "            background-color: #198754;\n",
        "            color: white;\n",
        "            border: 2px solid #157347;\n",
        "            padding: 10px 20px;\n",
        "            border-radius: 5px;\n",
        "            font-size: 16px;\n",
        "            cursor: pointer;\n",
        "            transition: 0.3s;\n",
        "        }\n",
        "        input[type=\"submit\"]:hover {\n",
        "            background-color: #145c32;\n",
        "        }\n",
        "\n",
        "        /* Summary Output Box */\n",
        "        .output {\n",
        "            margin-top: 30px;\n",
        "            background: white;\n",
        "            padding: 20px;\n",
        "            border-radius: 10px;\n",
        "            box-shadow: 0px 4px 10px rgba(0, 0, 0, 0.1);\n",
        "            width: 80%;\n",
        "            margin-left: auto;\n",
        "            margin-right: auto;\n",
        "            border: 2px solid #198754;\n",
        "        }\n",
        "\n",
        "        /* Summary Text */\n",
        "        p {\n",
        "            font-size: 18px;\n",
        "            color: #555;\n",
        "            line-height: 1.6;\n",
        "        }\n",
        "\n",
        "        /* Responsive Design */\n",
        "        @media (max-width: 768px) {\n",
        "            .container {\n",
        "                flex-direction: column;\n",
        "                align-items: center;\n",
        "            }\n",
        "            .box {\n",
        "                width: 80%;\n",
        "            }\n",
        "        }\n",
        "\n",
        "    </style>\n",
        "</head>\n",
        "\n",
        "<body>\n",
        "    <h1 id=\"titl\">Text Summarizer</h1>\n",
        "\n",
        "    <div class=\"container\">\n",
        "        <div class=\"box\">\n",
        "            <h3 class=\"sub\">Extractive Summarization</h3>\n",
        "            <form action=\"/ext_summarize\" method=\"post\">\n",
        "                <textarea name=\"text\" rows=\"8\" placeholder=\"Enter text for extractive summarization...\"></textarea><br>\n",
        "                <label>Number of sentences:</label>\n",
        "                <input type=\"number\" name=\"num_sentences\" value=\"2\" min=\"1\"><br><br>\n",
        "                <input type=\"submit\" value=\"Summarize\">\n",
        "            </form>\n",
        "        </div>\n",
        "\n",
        "        <div class=\"box\">\n",
        "            <h3 class=\"sub\">Abstractive Summarization</h3>\n",
        "            <form action=\"/abs_summarize\" method=\"post\">\n",
        "                <textarea name=\"text\" rows=\"8\" placeholder=\"Enter text for abstractive summarization...\"></textarea><br><br>\n",
        "                <input type=\"submit\" value=\"Summarize\">\n",
        "            </form>\n",
        "        </div>\n",
        "    </div>\n",
        "\n",
        "    {% if summary %}\n",
        "    <div class=\"output\">\n",
        "        <h3>Summarized Text:</h3>\n",
        "        <p>{{ summary }}</p>\n",
        "    </div>\n",
        "    {% endif %}\n",
        "</body>\n",
        "</html>\n",
        "\"\"\"\n",
        "\n",
        "@app.route('/')\n",
        "def home():\n",
        "    return render_template_string(HTML_TEMPLATE)\n",
        "\n",
        "@app.route('/ext_summarize', methods=['POST'])\n",
        "def ext_summarize():\n",
        "    text = request.form['text']\n",
        "    num_sentences = int(request.form['num_sentences'])\n",
        "\n",
        "    if not text.strip():\n",
        "        return render_template_string(HTML_TEMPLATE, summary=\"Error: No text provided.\")\n",
        "\n",
        "    doc = nlp(text)\n",
        "    tokens = [token.text.lower() for token in doc if not token.is_stop and not token.is_punct and token.text != '\\n']\n",
        "    word_freq = Counter(tokens)\n",
        "\n",
        "    if not word_freq:\n",
        "        return render_template_string(HTML_TEMPLATE, summary=\"Error: No valid words found in text.\")\n",
        "\n",
        "    max_freq = max(word_freq.values())\n",
        "    for word in word_freq.keys():\n",
        "        word_freq[word] = word_freq[word] / max_freq\n",
        "\n",
        "    sent_token = [sent.text for sent in doc.sents]\n",
        "    sent_score = {}\n",
        "    for sent in sent_token:\n",
        "        for word in sent.split():\n",
        "            if word.lower() in word_freq.keys():\n",
        "                sent_score[sent] = sent_score.get(sent, 0) + word_freq[word]\n",
        "\n",
        "    summarized_sentences = nlargest(num_sentences, sent_score, key=sent_score.get)\n",
        "    summary = \" \".join(summarized_sentences)\n",
        "\n",
        "    return render_template_string(HTML_TEMPLATE, summary=summary)\n",
        "\n",
        "@app.route('/abs_summarize', methods=['POST'])\n",
        "def abs_summarize():\n",
        "    text = request.form['text']\n",
        "    if not text.strip():\n",
        "        return render_template_string(HTML_TEMPLATE, summary=\"Error: No text provided.\")\n",
        "\n",
        "    summary = summarizer(text, max_length=100, min_length=10, do_sample=False)\n",
        "    return render_template_string(HTML_TEMPLATE, summary=summary[0]['summary_text'])\n",
        "\n",
        "# Start Ngrok and get a public URL\n",
        "public_url = ngrok.connect(5000)\n",
        "print(f\"Public URL: {public_url}\")\n",
        "\n",
        "if __name__ == '__main__':\n",
        "    app.run(port=5000)\n"
      ]
    }
  ],
  "metadata": {
    "colab": {
      "provenance": [],
      "authorship_tag": "ABX9TyPOlcV1yHtw6gxmxQZTulhg",
      "include_colab_link": true
    },
    "kernelspec": {
      "display_name": "Python 3",
      "name": "python3"
    },
    "language_info": {
      "name": "python"
    }
  },
  "nbformat": 4,
  "nbformat_minor": 0
}